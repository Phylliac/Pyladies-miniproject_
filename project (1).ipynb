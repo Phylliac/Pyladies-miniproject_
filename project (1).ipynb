{
 "cells": [
  {
   "cell_type": "code",
   "execution_count": 1,
   "metadata": {},
   "outputs": [],
   "source": [
    "import random"
   ]
  },
  {
   "cell_type": "code",
   "execution_count": 2,
   "metadata": {},
   "outputs": [],
   "source": [
    "# creating a list withe words from the words text file\n",
    "with open('words.txt', 'r') as words:\n",
    "    word_list = words.read().splitlines()"
   ]
  },
  {
   "cell_type": "code",
   "execution_count": 3,
   "metadata": {},
   "outputs": [],
   "source": [
    "# Dividing the lists of words into easy and hard words for the two different levels of difficulty\n",
    "easy_words = []\n",
    "hard_words = []\n",
    "for word in word_list:\n",
    "    if len(word) <= 5:\n",
    "        easy_words.append(word)\n",
    "    else:\n",
    "        hard_words.append(word)"
   ]
  },
  {
   "cell_type": "code",
   "execution_count": 4,
   "metadata": {},
   "outputs": [],
   "source": [
    "# Defining the function for getting the random word\n",
    "def get_word(list):\n",
    "    random_num = random.randint(0, len(list)-1)\n",
    "    word_chosen = list[random_num]\n",
    "    return word_chosen\n"
   ]
  },
  {
   "cell_type": "code",
   "execution_count": 5,
   "metadata": {},
   "outputs": [],
   "source": [
    "#Defining the function that picks a random word from either list depending on the level selected\n",
    "def guess_game(difficulty):\n",
    "    if difficulty == 'easy':\n",
    "        word = get_word(easy_words)\n",
    "    elif difficulty == 'hard':\n",
    "        word = get_word(hard_words)\n",
    "    word.strip('\\n')\n",
    "    print('Guess the word:{}'.format('#' * len(word)) )\n",
    "    print('The word begins with {} and ends with {} '. format(word[0], word[len(word)-1]))\n",
    "    return word\n",
    "    "
   ]
  },
  {
   "cell_type": "code",
   "execution_count": 6,
   "metadata": {
    "scrolled": true
   },
   "outputs": [
    {
     "name": "stdout",
     "output_type": "stream",
     "text": [
      "Guess the word:####\n",
      "The word begins with m and ends with n \n"
     ]
    },
    {
     "data": {
      "text/plain": [
       "'moon'"
      ]
     },
     "execution_count": 6,
     "metadata": {},
     "output_type": "execute_result"
    }
   ],
   "source": [
    "guess_game('easy')"
   ]
  },
  {
   "cell_type": "code",
   "execution_count": 7,
   "metadata": {},
   "outputs": [],
   "source": [
    "#this code doesn't run as expected...debug \n",
    "def choose_level():\n",
    "    name = input('Hi there! May I know your name? ')\n",
    "    print('Welcome {} to the word guessing game!'. format(name))\n",
    "    level = input('There are two levels in this game. Which level would you like to play?\\nEnter 1 for easy and 2 for hard: ')\n",
    "    while True:\n",
    "        if (int(level) == 1):\n",
    "            print('You have chosen level {} which is easy'.format(level))\n",
    "            break\n",
    "        elif (int(level) == 2):\n",
    "            print('You have chosen level {} which is hard'.format(level))\n",
    "            break\n",
    "        else:\n",
    "            print('Invalid option')\n",
    "            level = input('There are two levels in this game. Which level would you like to play?\\nEnter 1 for easy and 2 for hard: ')\n",
    "        return int(level)"
   ]
  },
  {
   "cell_type": "code",
   "execution_count": 8,
   "metadata": {},
   "outputs": [],
   "source": [
    "#choose_level()"
   ]
  },
  {
   "cell_type": "code",
   "execution_count": 9,
   "metadata": {},
   "outputs": [],
   "source": [
    "#this function is not working as expected...debug\n",
    "def confirm_and_proceed():\n",
    "    #confirms level selcted and proceed to guess game which selects a random word for user to guess if confirmed \n",
    "    #or request level required from user again if denied\n",
    "    confirm = input('Would you like to proceed? y/n: ')\n",
    "    if (confirm.lower == 'y'):\n",
    "        guess_game(difficulty)\n",
    "        \n",
    "    else:\n",
    "        choose_level()\n",
    "    "
   ]
  },
  {
   "cell_type": "code",
   "execution_count": 10,
   "metadata": {},
   "outputs": [
    {
     "name": "stdout",
     "output_type": "stream",
     "text": [
      "Hi there! May I know your name? Lip\n",
      "Welcome Lip to the word guessing game!\n",
      "There are two levels in this game. Which level would you like to play?\n",
      "Enter 1 for easy and 2 for hard: 3\n",
      "Invalid option\n",
      "There are two levels in this game. Which level would you like to play?\n",
      "Enter 1 for easy and 2 for hard: 5\n",
      "Invalid option\n",
      "There are two levels in this game. Which level would you like to play?\n",
      "Enter 1 for easy and 2 for hard: 2\n",
      "You have chosen level 2 which is hard\n",
      "hard\n",
      "Would you like to proceed? y/n: y\n"
     ]
    }
   ],
   "source": [
    "# this is a version of the choose level function that actually works without the function definition..\n",
    "#wonder what the problem is *sighs*\n",
    "#except that the confirm and proceed doesn't work here too\n",
    "\n",
    "name = input('Hi there! May I know your name? ')\n",
    "print('Welcome {} to the word guessing game!'. format(name))\n",
    "level = input('There are two levels in this game. Which level would you like to play?\\nEnter 1 for easy and 2 for hard: ')\n",
    "\n",
    "while True:\n",
    "    if (int(level) == 1):\n",
    "        print('You have chosen level {} which is easy'.format(level))\n",
    "        difficulty = 'easy'\n",
    "        confirm_and_proceed()\n",
    "        break\n",
    "    elif (int(level) == 2):\n",
    "        print('You have chosen level {} which is hard'.format(level))\n",
    "        difficulty = 'hard'\n",
    "        confirm_and_proceed()\n",
    "        break\n",
    "    else:\n",
    "        print('Invalid option')\n",
    "        level = input('There are two levels in this game. Which level would you like to play?\\nEnter 1 for easy and 2 for hard: ')\n",
    "        \n"
   ]
  },
  {
   "cell_type": "code",
   "execution_count": 11,
   "metadata": {},
   "outputs": [
    {
     "name": "stdout",
     "output_type": "stream",
     "text": [
      "Would you like to proceed? y/n: y\n"
     ]
    }
   ],
   "source": [
    "# I wrote all this out but it's actually a duplicate of the confirm and proceed function\n",
    "#buzzkill, doesn't work right either *face_palms*\n",
    "#confirms level selcted and proceed if confirmed or request level required from user if denied\n",
    "confirm = input('Would you like to proceed? y/n: ')\n",
    "if (confirm.lower == 'y'):\n",
    "    if (difficulty == 'easy'):\n",
    "        word = get_word(easy_words)\n",
    "    elif (difficulty == 'hard'):\n",
    "        word = get_word(hard_words)\n",
    "    word.strip()\n",
    "    print('Guess the word:{}'.format('#' * len(word)) )\n",
    "    print('The word begins with {} and ends with {} '. format(word[0], word[len(word)-1]))\n"
   ]
  }
 ],
 "metadata": {
  "kernelspec": {
   "display_name": "Python 3",
   "language": "python",
   "name": "python3"
  },
  "language_info": {
   "codemirror_mode": {
    "name": "ipython",
    "version": 3
   },
   "file_extension": ".py",
   "mimetype": "text/x-python",
   "name": "python",
   "nbconvert_exporter": "python",
   "pygments_lexer": "ipython3",
   "version": "3.8.3"
  }
 },
 "nbformat": 4,
 "nbformat_minor": 4
}
